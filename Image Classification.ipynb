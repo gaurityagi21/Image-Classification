{
  "cells": [
    {
      "cell_type": "code",
      "execution_count": 4,
      "metadata": {
        "id": "0JPoR4LCdirj"
      },
      "outputs": [],
      "source": [
        "import numpy as np\n",
        "import random\n",
        "import matplotlib.pyplot as plt\n",
        "from tensorflow.keras.models import Sequential\n",
        "from tensorflow.keras.layers import Conv2D, MaxPooling2D, Dense, Flatten"
      ]
    },
    {
      "cell_type": "markdown",
      "source": [
        "Load Dataset"
      ],
      "metadata": {
        "id": "os9QvfYI-E7j"
      }
    },
    {
      "cell_type": "code",
      "source": [
        "import numpy as np\n",
        "import os\n",
        "\n",
        "# Define the directory where the CSV files are located\n",
        "csv_dir = '/content/Extracted/Image Classification CNN Keras Dataset'\n",
        "\n",
        "# Load training data\n",
        "X_train = np.loadtxt(os.path.join(csv_dir, 'input.csv'), delimiter=',')\n",
        "Y_train = np.loadtxt(os.path.join(csv_dir, 'labels.csv'), delimiter=',')\n",
        "\n",
        "# Load testing data\n",
        "X_test = np.loadtxt(os.path.join(csv_dir, 'input_test.csv'), delimiter=',')\n",
        "Y_test = np.loadtxt(os.path.join(csv_dir, 'labels_test.csv'), delimiter=',')\n",
        "\n",
        "X_train = X_train.reshape(len(X_train), 100, 100, 3)\n",
        "Y_train = Y_train.reshape(len(Y_train), 1)\n",
        "\n",
        "X_test = X_test.reshape(len(X_test), 100, 100, 3)\n",
        "Y_test = Y_test.reshape(len(Y_test), 1)\n",
        "\n",
        "X_train = X_train/255.0\n",
        "X_test = X_test/255.\n",
        "\n",
        "# Print the shapes of the loaded datasets\n",
        "print(\"Shape of X_train: \", X_train.shape)\n",
        "print(\"Shape of Y_train: \", Y_train.shape)\n",
        "print(\"Shape of X_test: \", X_test.shape)\n",
        "print(\"Shape of Y_test: \", Y_test.shape)"
      ],
      "metadata": {
        "id": "xflRLfKc89F0"
      },
      "execution_count": null,
      "outputs": []
    },
    {
      "cell_type": "code",
      "source": [
        "idx = random.randint(0, len(X_train))\n",
        "plt.imshow(X_train[idx, :])\n",
        "plt.show()"
      ],
      "metadata": {
        "id": "TZDNK2iNAYwd"
      },
      "execution_count": null,
      "outputs": []
    },
    {
      "cell_type": "markdown",
      "source": [
        "Model"
      ],
      "metadata": {
        "id": "uz_dguS8EdmL"
      }
    },
    {
      "cell_type": "code",
      "source": [
        "model = Sequential([\n",
        "    Conv2D(32, (3,3), activation = 'relu', input_shape = (100, 100, 3)),\n",
        "    MaxPooling2D((2,2)),\n",
        "\n",
        "    Conv2D(32, (3,3), activation = 'relu'),\n",
        "    MaxPooling2D((2,2)),\n",
        "\n",
        "    Flatten(),\n",
        "    Dense(64, activation = 'relu'),\n",
        "    Dense(1, activation = 'sigmoid')\n",
        "])"
      ],
      "metadata": {
        "id": "t0JVZ6g0EfF3"
      },
      "execution_count": 6,
      "outputs": []
    },
    {
      "cell_type": "code",
      "source": [
        "model.compile(loss = 'binary_crossentropy', optimizer = 'adam', metrics = ['accuracy'])\n",
        "model.fit(X_train, Y_train, epochs = 5, batch_size = 64)"
      ],
      "metadata": {
        "id": "RVhXTbjIGtEg"
      },
      "execution_count": null,
      "outputs": []
    },
    {
      "cell_type": "code",
      "source": [
        "model.evaluate(X_test, Y_test)"
      ],
      "metadata": {
        "id": "Ds-3K7AdJ_IS"
      },
      "execution_count": null,
      "outputs": []
    },
    {
      "cell_type": "markdown",
      "source": [
        "Making Predictions"
      ],
      "metadata": {
        "id": "sQyI2q_CKfq6"
      }
    },
    {
      "cell_type": "code",
      "source": [
        "idx2 = random.randint(0, len(Y_test))\n",
        "plt.imshow(X_test[idx2, :])\n",
        "plt.show()\n",
        "\n",
        "y_pred = model.predict(X_test[idx2, :].reshape(1, 100, 100, 3))\n",
        "y_pred = y_pred < 0.5\n",
        "\n",
        "if(y_pred == 0):\n",
        "  pred = 'dog'\n",
        "else:\n",
        "  pred = 'cat'\n",
        "\n",
        "print(\"Our model says it is a :\", pred)"
      ],
      "metadata": {
        "id": "vbKFYHYZKiRu"
      },
      "execution_count": null,
      "outputs": []
    }
  ],
  "metadata": {
    "accelerator": "GPU",
    "colab": {
      "gpuType": "T4",
      "provenance": []
    },
    "kernelspec": {
      "display_name": "Python 3",
      "name": "python3"
    },
    "language_info": {
      "name": "python"
    }
  },
  "nbformat": 4,
  "nbformat_minor": 0
}